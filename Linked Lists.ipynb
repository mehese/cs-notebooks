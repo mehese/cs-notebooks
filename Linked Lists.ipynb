{
 "cells": [
  {
   "cell_type": "markdown",
   "metadata": {},
   "source": [
    "# Linked Lists\n",
    "\n",
    "A linked list is a list in which each node contains its data and a pointer to the next node. "
   ]
  },
  {
   "cell_type": "code",
   "execution_count": 1,
   "metadata": {},
   "outputs": [],
   "source": [
    "class Node:\n",
    "    def __init__(self, data=None):\n",
    "        self.data = data\n",
    "        self.next = None\n",
    "    \n",
    "    def __str__(self):\n",
    "        return f\"< {self.data} >\"\n",
    "    \n",
    "    def __repr__(self):\n",
    "        return f\"< {self.data} >\"\n",
    "\n",
    "        \n",
    "class LinkedList:\n",
    "    def __init__(self):\n",
    "        self.head = Node()\n",
    "    \n",
    "    def append(self, data):\n",
    "        new_node = Node(data)\n",
    "        cur = self.head\n",
    "        \n",
    "        while cur.next != None:\n",
    "            cur = cur.next\n",
    "        \n",
    "        cur.next = new_node\n",
    "        \n",
    "    def __getitem__(self, key):\n",
    "        \n",
    "        if self.head.next is not None:\n",
    "            cur_node = self.head.next\n",
    "        else:\n",
    "            raise StopIteration\n",
    "        \n",
    "        for i in range(key):\n",
    "            if cur_node.next is not None:\n",
    "                cur_node = cur_node.next\n",
    "            else:\n",
    "                raise IndexError('Index out of bounds')\n",
    "        \n",
    "        return cur_node\n",
    "    \n",
    "    def remove(self, key):\n",
    "        curr_node = self.head\n",
    "        found = False\n",
    "        \n",
    "        while curr_node.next is not None:\n",
    "            if curr_node.next.data == key:\n",
    "                # Just make the current node point towards the node the next node is \n",
    "                # pointing at\n",
    "                curr_node.next = curr_node.next.next\n",
    "                found = True\n",
    "                break\n",
    "            else:\n",
    "                curr_node = curr_node.next\n",
    "        \n",
    "        if not found:\n",
    "            raise KeyError(f'key {key} not found')"
   ]
  },
  {
   "cell_type": "code",
   "execution_count": 2,
   "metadata": {},
   "outputs": [
    {
     "name": "stdout",
     "output_type": "stream",
     "text": [
      "[< 5 >, < 2 >, < 6 >, < 0 >]\n",
      "[< 2 >, < 6 >, < 0 >]\n"
     ]
    }
   ],
   "source": [
    "l = LinkedList()\n",
    "l.append(5)\n",
    "l.append(2)\n",
    "l.append(6)\n",
    "l.append(0)\n",
    "print(list(l))\n",
    "l.remove(5)\n",
    "print(list(l))\n"
   ]
  },
  {
   "cell_type": "markdown",
   "metadata": {},
   "source": [
    "## Cycle in linked list\n",
    "\n",
    "A linked list can have a cycle, where the last node is pointing towards a node in the list (see tortoise and hare problem in linked lists)"
   ]
  },
  {
   "cell_type": "code",
   "execution_count": 3,
   "metadata": {},
   "outputs": [
    {
     "name": "stdout",
     "output_type": "stream",
     "text": [
      "[< 77 >, < 73 >, < 87 >, < 33 >, < 65 >, < 4 >, < 47 >, < 41 >, < 81 >, < 86 >]\n"
     ]
    }
   ],
   "source": [
    "from random import randint\n",
    "l2 = LinkedList()\n",
    "for _ in range(10):\n",
    "    l2.append(randint(0, 99))\n",
    "print(list(l2))"
   ]
  },
  {
   "cell_type": "code",
   "execution_count": 4,
   "metadata": {},
   "outputs": [],
   "source": [
    "l2[9].next = l2[6]"
   ]
  },
  {
   "cell_type": "code",
   "execution_count": 5,
   "metadata": {},
   "outputs": [
    {
     "name": "stdout",
     "output_type": "stream",
     "text": [
      "< 77 >\n",
      "< 73 >\n",
      "< 87 >\n",
      "< 33 >\n",
      "< 65 >\n",
      "< 4 >\n",
      "< 47 >\n",
      "< 41 >\n",
      "< 81 >\n",
      "< 86 >\n",
      "< 47 >\n",
      "< 41 >\n",
      "< 81 >\n",
      "< 86 >\n",
      "< 47 >\n",
      "< 41 >\n",
      "< 81 >\n",
      "< 86 >\n",
      "< 47 >\n",
      "< 41 >\n"
     ]
    }
   ],
   "source": [
    "cycle = l2[0]\n",
    "for _ in range(20):\n",
    "    print(cycle)\n",
    "    cycle = cycle.next"
   ]
  },
  {
   "cell_type": "code",
   "execution_count": 6,
   "metadata": {},
   "outputs": [
    {
     "name": "stdout",
     "output_type": "stream",
     "text": [
      "< 77 >\n",
      "< 73 >\n",
      "< 87 >\n",
      "< 33 >\n",
      "< 65 >\n",
      "< 4 >\n",
      "< 47 >\n",
      "< 41 >\n",
      "< 81 >\n",
      "< 86 >\n",
      "< 47 >\n",
      "< 41 >\n",
      "< 81 >\n",
      "< 86 >\n",
      "< 47 >\n",
      "< 41 >\n",
      "< 81 >\n",
      "< 86 >\n",
      "< 47 >\n",
      "< 41 >\n",
      "< 81 >\n",
      "< 86 >\n",
      "< 47 >\n",
      "< 41 >\n",
      "< 81 >\n",
      "< 86 >\n",
      "< 47 >\n",
      "< 41 >\n",
      "< 81 >\n",
      "< 86 >\n",
      "< 47 >\n",
      "< 41 >\n",
      "< 81 >\n",
      "< 86 >\n",
      "< 47 >\n",
      "< 41 >\n",
      "< 81 >\n",
      "< 86 >\n",
      "< 47 >\n",
      "< 41 >\n",
      "< 81 >\n",
      "< 86 >\n",
      "< 47 >\n",
      "< 41 >\n",
      "< 81 >\n",
      "< 86 >\n",
      "< 47 >\n",
      "< 41 >\n",
      "< 81 >\n",
      "< 86 >\n",
      "< 47 >\n",
      "< 41 >\n",
      "< 81 >\n",
      "< 86 >\n",
      "< 47 >\n",
      "< 41 >\n",
      "< 81 >\n",
      "< 86 >\n",
      "< 47 >\n",
      "< 41 >\n",
      "< 81 >\n",
      "< 86 >\n",
      "< 47 >\n",
      "< 41 >\n",
      "< 81 >\n",
      "< 86 >\n",
      "< 47 >\n",
      "< 41 >\n",
      "< 81 >\n",
      "< 86 >\n",
      "< 47 >\n",
      "< 41 >\n",
      "< 81 >\n",
      "< 86 >\n",
      "< 47 >\n",
      "< 41 >\n",
      "< 81 >\n",
      "< 86 >\n",
      "< 47 >\n",
      "< 41 >\n",
      "< 81 >\n",
      "< 86 >\n",
      "< 47 >\n",
      "< 41 >\n",
      "< 81 >\n",
      "< 86 >\n",
      "< 47 >\n",
      "< 41 >\n",
      "< 81 >\n",
      "< 86 >\n",
      "< 47 >\n",
      "< 41 >\n",
      "< 81 >\n",
      "< 86 >\n",
      "< 47 >\n",
      "< 41 >\n",
      "< 81 >\n",
      "< 86 >\n",
      "< 47 >\n",
      "< 41 >\n"
     ]
    }
   ],
   "source": [
    "i = 0\n",
    "for elem in l2:\n",
    "    i += 1\n",
    "    print(elem)\n",
    "    if i == 100:\n",
    "        break\n",
    "    "
   ]
  },
  {
   "cell_type": "code",
   "execution_count": null,
   "metadata": {},
   "outputs": [],
   "source": []
  }
 ],
 "metadata": {
  "kernelspec": {
   "display_name": "Python 3",
   "language": "python",
   "name": "python3"
  },
  "language_info": {
   "codemirror_mode": {
    "name": "ipython",
    "version": 3
   },
   "file_extension": ".py",
   "mimetype": "text/x-python",
   "name": "python",
   "nbconvert_exporter": "python",
   "pygments_lexer": "ipython3",
   "version": "3.6.3"
  }
 },
 "nbformat": 4,
 "nbformat_minor": 2
}
