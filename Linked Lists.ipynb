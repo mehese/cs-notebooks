{
 "cells": [
  {
   "cell_type": "code",
   "execution_count": 1,
   "metadata": {},
   "outputs": [],
   "source": [
    "class Node:\n",
    "    def __init__(self, data=None):\n",
    "        self.data = data\n",
    "        self.next = None\n",
    "    \n",
    "    def __str__(self):\n",
    "        return f\"< {self.data} >\"\n",
    "    \n",
    "    def __repr__(self):\n",
    "        return f\"< {self.data} >\"\n",
    "\n",
    "        \n",
    "class LinkedList:\n",
    "    def __init__(self):\n",
    "        self.head = Node()\n",
    "    \n",
    "    def append(self, data):\n",
    "        new_node = Node(data)\n",
    "        cur = self.head\n",
    "        \n",
    "        while cur.next != None:\n",
    "            cur = cur.next\n",
    "        \n",
    "        cur.next = new_node\n",
    "        \n",
    "    def __getitem__(self, key):\n",
    "        \n",
    "        if self.head.next is not None:\n",
    "            cur_node = self.head.next\n",
    "        else:\n",
    "            raise StopIteration\n",
    "        \n",
    "        for i in range(key):\n",
    "            if cur_node.next is not None:\n",
    "                cur_node = cur_node.next\n",
    "            else:\n",
    "                raise IndexError('Index out of bounds')\n",
    "        \n",
    "        return cur_node"
   ]
  },
  {
   "cell_type": "code",
   "execution_count": 2,
   "metadata": {},
   "outputs": [
    {
     "data": {
      "text/plain": [
       "[< 5 >, < 2 >, < 6 >, < 0 >]"
      ]
     },
     "execution_count": 2,
     "metadata": {},
     "output_type": "execute_result"
    }
   ],
   "source": [
    "l = LinkedList()\n",
    "l.append(5)\n",
    "l.append(2)\n",
    "l.append(6)\n",
    "l.append(0)\n",
    "list(l)"
   ]
  },
  {
   "cell_type": "code",
   "execution_count": null,
   "metadata": {},
   "outputs": [],
   "source": []
  }
 ],
 "metadata": {
  "kernelspec": {
   "display_name": "Python 3",
   "language": "python",
   "name": "python3"
  },
  "language_info": {
   "codemirror_mode": {
    "name": "ipython",
    "version": 3
   },
   "file_extension": ".py",
   "mimetype": "text/x-python",
   "name": "python",
   "nbconvert_exporter": "python",
   "pygments_lexer": "ipython3",
   "version": "3.6.3"
  }
 },
 "nbformat": 4,
 "nbformat_minor": 2
}
