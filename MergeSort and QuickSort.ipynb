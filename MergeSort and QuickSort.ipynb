{
 "cells": [
  {
   "cell_type": "markdown",
   "metadata": {},
   "source": [
    "# Sorting\n",
    "\n",
    "## Merge sort\n",
    "\n",
    "Complexity $O(N \\log(N))$. Goes through two sorted lists and returns a sorted one. Recurses on this resulting in a full sorted array.\n",
    "\n",
    "## Quick sort\n",
    "\n",
    "Complexity $O(N^2)$ but average running time $O(N \\log(N))$. On most datasets runs slightly faster than merge sort. Considers a pivot, and moves all elements in the array smaller than de pivot before the pivot, and the ones larger than the pivot after the pivot."
   ]
  },
  {
   "cell_type": "markdown",
   "metadata": {},
   "source": [
    "# Merge sort"
   ]
  },
  {
   "cell_type": "code",
   "execution_count": 1,
   "metadata": {},
   "outputs": [
    {
     "name": "stdout",
     "output_type": "stream",
     "text": [
      "Pretty printing has been turned OFF\n"
     ]
    }
   ],
   "source": [
    "%pprint\n",
    "from random import randint, choice"
   ]
  },
  {
   "cell_type": "code",
   "execution_count": 2,
   "metadata": {},
   "outputs": [
    {
     "data": {
      "text/plain": [
       "[29, 63, 237, 239, 262, 284, 318, 378, 392, 446, 446, 553, 577, 622, 718, 804, 866, 882, 916, 980]"
      ]
     },
     "execution_count": 2,
     "metadata": {},
     "output_type": "execute_result"
    }
   ],
   "source": [
    "def merge(arr1, arr2):\n",
    "    i, j = 0, 0\n",
    "    res = []\n",
    "    while i < len(arr1) and j < len(arr2):\n",
    "        if arr1[i] <= arr2[j]:\n",
    "            res.append(arr1[i])\n",
    "            i += 1\n",
    "        else:\n",
    "            res.append(arr2[j])\n",
    "            j += 1\n",
    "\n",
    "    return res + arr1[i:] + arr2[j:]\n",
    "\n",
    "def merge_sort(arr):\n",
    "    if len(arr) == 1:\n",
    "        return arr\n",
    "\n",
    "    mid_point = len(arr) // 2\n",
    "    half1 = merge_sort(arr[:mid_point])\n",
    "    half2 = merge_sort(arr[mid_point:])\n",
    "    return merge(half1, half2)\n",
    "\n",
    "lst = [randint(1, 1000) for _ in range(20)]\n",
    "merge_sort(lst)"
   ]
  },
  {
   "cell_type": "code",
   "execution_count": 3,
   "metadata": {},
   "outputs": [],
   "source": [
    "def test_mergesort():\n",
    "    for _ in range(10):\n",
    "        lst = [randint(0, 1000) for _ in range(randint(1, 30))]\n",
    "        res = merge_sort(lst)\n",
    "        exp = sorted(lst)\n",
    "        assert res == exp, f\"{res} was not {exp}\"\n",
    "\n",
    "test_mergesort()"
   ]
  },
  {
   "cell_type": "markdown",
   "metadata": {},
   "source": [
    "## Observations\n",
    "\n",
    "- Would  be faster if it were done inplace, a lot of temporary lists get needlessly created"
   ]
  },
  {
   "cell_type": "markdown",
   "metadata": {},
   "source": [
    "# QuickSort"
   ]
  },
  {
   "cell_type": "code",
   "execution_count": 4,
   "metadata": {},
   "outputs": [
    {
     "name": "stdout",
     "output_type": "stream",
     "text": [
      "[72, 59, 83, 88, 59, 97, 69, 60, 22, 48, 44, 15, 74, 95, 97, 29, 36, 61, 3, 20]\n",
      "[3, 15, 20, 22, 29, 36, 44, 48, 59, 59, 60, 61, 69, 72, 74, 83, 88, 95, 97, 97]\n"
     ]
    }
   ],
   "source": [
    "def reshuffle(arr, pivot):\n",
    "    \"\"\" move elements smaller than the pivot before the pivot\n",
    "    and elements larger after\n",
    "    \"\"\"\n",
    "    arr.remove(pivot)\n",
    "    return [x for x in arr if x <= pivot] + [pivot] + \\\n",
    "           [x for x in arr if x > pivot]\n",
    "\n",
    "def quick_sort(arr):\n",
    "    if len(arr) <= 1:\n",
    "        return arr\n",
    "    if len(arr) == 2:\n",
    "        return [min(arr), max(arr)]\n",
    "    pivot = choice(arr)\n",
    "    arr.remove(pivot)\n",
    "    lesser = [x for x in arr if x <= pivot]\n",
    "    greater = [x for x in arr if x > pivot]\n",
    "    return quick_sort(lesser) + [pivot] + quick_sort(greater)\n",
    "\n",
    "lst = [randint(0, 99) for _ in range(20)]\n",
    "print(lst)\n",
    "print(quick_sort(lst))"
   ]
  },
  {
   "cell_type": "code",
   "execution_count": 5,
   "metadata": {},
   "outputs": [],
   "source": [
    "def test_quicksort():\n",
    "    for _ in range(10):\n",
    "        lst = [randint(0, 1000) for _ in range(randint(1, 30))]\n",
    "        exp = sorted(lst) # pivot is removed in the function\n",
    "        res = quick_sort(lst)\n",
    "        assert res == exp, f\"\\n{res}\\nwas not\\n{exp}\"\n",
    "\n",
    "test_quicksort()"
   ]
  },
  {
   "cell_type": "code",
   "execution_count": null,
   "metadata": {},
   "outputs": [],
   "source": []
  }
 ],
 "metadata": {
  "kernelspec": {
   "display_name": "Python 3",
   "language": "python",
   "name": "python3"
  },
  "language_info": {
   "codemirror_mode": {
    "name": "ipython",
    "version": 3
   },
   "file_extension": ".py",
   "mimetype": "text/x-python",
   "name": "python",
   "nbconvert_exporter": "python",
   "pygments_lexer": "ipython3",
   "version": "3.6.3"
  }
 },
 "nbformat": 4,
 "nbformat_minor": 2
}
