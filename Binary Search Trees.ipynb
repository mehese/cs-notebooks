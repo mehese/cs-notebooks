{
 "cells": [
  {
   "cell_type": "markdown",
   "metadata": {},
   "source": [
    "# Binary search trees\n",
    "\n",
    "\n",
    "## Definition\n",
    "\n",
    "A binary search tree is a tree where\n",
    "- each node stores a value\n",
    "- each node is either a leaf or has one or two children\n",
    "- the left child has a value smaller than the node, and the right larger\n",
    "\n",
    "![bst](resources/bst.png)\n",
    "Topics to worry about\n",
    "\n",
    "- Finding an element\n",
    "- Inserting and element\n",
    "- Reversing the tree\n",
    "- Creating the tree"
   ]
  },
  {
   "cell_type": "code",
   "execution_count": 9,
   "metadata": {},
   "outputs": [],
   "source": [
    "class Node:\n",
    "    \"\"\"\n",
    "    Node class\n",
    "    \"\"\"\n",
    "    def __init__(self, value):\n",
    "        self.value = value\n",
    "        self.child_left = None\n",
    "        self.child_right = None\n",
    "\n",
    "    def get_left(self):\n",
    "        return self.child_left\n",
    "\n",
    "    def get_right(self):\n",
    "        return self.child_right\n",
    "      \n",
    "    def __repr__(self):\n",
    "        r = \"none\" if self.child_right is None else self.child_right.value\n",
    "        l = \"none\" if self.child_left is None else self.child_left.value\n",
    "        return f\"(key = {self.value}, ({l}, {r}))\"\n",
    "        "
   ]
  },
  {
   "cell_type": "code",
   "execution_count": 2,
   "metadata": {},
   "outputs": [
    {
     "data": {
      "text/plain": [
       "(key = 4, (5, none))"
      ]
     },
     "execution_count": 2,
     "metadata": {},
     "output_type": "execute_result"
    }
   ],
   "source": [
    "four = Node(4)\n",
    "four.child_left = Node(5)\n",
    "four"
   ]
  },
  {
   "cell_type": "markdown",
   "metadata": {},
   "source": [
    "## Complexity\n",
    "\n",
    "Search and insertion are proportional to he height of the tree. In a worst case scenario the tree is a continuous line, so the complexity is $O(n)$.\n",
    "\n",
    "## Insertion\n",
    "\n",
    "Query the current root. If it's equal to the key we want inserted, ignore (WARNING: assumption). If it's smaller than the key we want inserted, we query the children nodes."
   ]
  },
  {
   "cell_type": "code",
   "execution_count": 7,
   "metadata": {},
   "outputs": [],
   "source": [
    "class BST:\n",
    "    \"\"\"\n",
    "    Binary search tree class\n",
    "    \"\"\"\n",
    "    def __init__(self):\n",
    "        self.leader = None\n",
    "            \n",
    "    def search(self, key, root = None):\n",
    "        \"\"\"\n",
    "        Go either left or right until the key/leaf  is found\n",
    "        \"\"\"\n",
    "        if key == self.leader.value:\n",
    "            return True\n",
    "        elif root is None: # maybe raise KeyError?\n",
    "            return False\n",
    "        elif root.value == key:\n",
    "            return True        \n",
    "        elif root.value < key:\n",
    "            print(\"\")\n",
    "            # key is larger than the root, should be on the right side\n",
    "            return self.search(root.get_right(), key)\n",
    "        elif root.value > key:\n",
    "            # key is smaller than the root, should be on the left side\n",
    "            return self.search(root.get_left(), key)\n",
    "    \n",
    "    def insert(self, node):\n",
    "        print(\"=\"*60)\n",
    "        if self.leader is None:\n",
    "            print(f\"setting top node to {node.value}\")\n",
    "            self.leader = node\n",
    "        else:\n",
    "            self.insert_rec(self.leader, node.value)\n",
    "            \n",
    "    def insert_rec(self, root, key):\n",
    "        \"\"\"\n",
    "        Go either left or right until you either find the key or you find a leaf\n",
    "        \"\"\" \n",
    "        if root is None:\n",
    "            print(f\"inserting {key}\")\n",
    "            root = Node(key)\n",
    "        elif root.value < key:\n",
    "            print(f\"key {key} is larger than  root {root.value}\")\n",
    "            # key is larger, go right\n",
    "            self.insert_rec(root.get_right(), key)   \n",
    "        elif root.value > key:\n",
    "            # key is smaller, go left\n",
    "            print(f\"key {key} is smaller than  root {root.value}\")\n",
    "            self.insert_rec(root.get_left(), key)\n",
    "        # Question: what about duplicates?\n",
    "        elif root.value == key:\n",
    "            print(\"key equal\")\n",
    "    \n",
    "    def in_order(self):\n",
    "        \"\"\"\n",
    "        returns the nodes in the \n",
    "        \"\"\"\n",
    "        ...\n",
    "        # To do, use yield statements\n",
    "        "
   ]
  },
  {
   "cell_type": "code",
   "execution_count": 8,
   "metadata": {},
   "outputs": [
    {
     "name": "stdout",
     "output_type": "stream",
     "text": [
      "============================================================\n",
      "setting top node to 4\n",
      "============================================================\n",
      "key 5 is larger than  root 4\n",
      "inserting 5\n",
      "============================================================\n",
      "key 6 is larger than  root 4\n",
      "inserting 6\n"
     ]
    },
    {
     "data": {
      "text/plain": [
       "<__main__.BST at 0x7f8f29fc0198>"
      ]
     },
     "execution_count": 8,
     "metadata": {},
     "output_type": "execute_result"
    }
   ],
   "source": [
    "b = BST()\n",
    "b.insert(Node(4))\n",
    "b.insert(Node(5))\n",
    "b.insert(Node(6))\n",
    "b"
   ]
  },
  {
   "cell_type": "code",
   "execution_count": 5,
   "metadata": {},
   "outputs": [
    {
     "data": {
      "text/plain": [
       "False"
      ]
     },
     "execution_count": 5,
     "metadata": {},
     "output_type": "execute_result"
    }
   ],
   "source": [
    "b.search(6)"
   ]
  },
  {
   "cell_type": "markdown",
   "metadata": {},
   "source": [
    "# Further reading\n",
    "\n",
    "[Geeks for Geeks](http://www.geeksforgeeks.org/binary-search-tree-set-1-search-and-insertion/)"
   ]
  },
  {
   "cell_type": "code",
   "execution_count": null,
   "metadata": {},
   "outputs": [],
   "source": []
  }
 ],
 "metadata": {
  "kernelspec": {
   "display_name": "Python 3",
   "language": "python",
   "name": "python3"
  },
  "language_info": {
   "codemirror_mode": {
    "name": "ipython",
    "version": 3
   },
   "file_extension": ".py",
   "mimetype": "text/x-python",
   "name": "python",
   "nbconvert_exporter": "python",
   "pygments_lexer": "ipython3",
   "version": "3.6.3"
  }
 },
 "nbformat": 4,
 "nbformat_minor": 2
}
