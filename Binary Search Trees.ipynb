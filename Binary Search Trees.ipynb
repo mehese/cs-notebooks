{
 "cells": [
  {
   "cell_type": "markdown",
   "metadata": {},
   "source": [
    "# Binary search trees\n",
    "\n",
    "\n",
    "## Definition\n",
    "\n",
    "A binary search tree is a tree where\n",
    "- each node stores a value\n",
    "- each node is either a leaf or has one or two children\n",
    "- the left child has a value smaller than the node, and the right larger\n",
    "\n",
    "![bst](resources/bst.png)\n",
    "Topics to worry about\n",
    "\n",
    "- Finding an element\n",
    "- Inserting and element\n",
    "- Reversing the tree\n",
    "- Creating the tree"
   ]
  },
  {
   "cell_type": "code",
   "execution_count": 1,
   "metadata": {},
   "outputs": [],
   "source": [
    "import unittest\n",
    "from random import randint"
   ]
  },
  {
   "cell_type": "code",
   "execution_count": 2,
   "metadata": {},
   "outputs": [],
   "source": [
    "class Node:\n",
    "    \"\"\"\n",
    "    Node class\n",
    "    \"\"\"\n",
    "    def __init__(self, value):\n",
    "        self.value = value\n",
    "        self.children = [None, None]\n",
    "\n",
    "    def get_left(self):\n",
    "        return self.children[0]\n",
    "    \n",
    "    def set_left(self, node):\n",
    "        self.children[0] = node\n",
    "\n",
    "    def get_right(self):\n",
    "        return self.children[1]\n",
    "    \n",
    "    def set_right(self, node):\n",
    "        self.children[1] = node\n",
    "    \n",
    "    def set_to(self, other):\n",
    "        self = other\n",
    "    \n",
    "    def __repr__(self):\n",
    "        r = \"none\" if self.children[1] is None else self.children[1].value\n",
    "        l = \"none\" if self.children[0] is None else self.children[0].value\n",
    "        return f\"(key = {self.value}, ({l}, {r}))\"\n",
    "        "
   ]
  },
  {
   "cell_type": "code",
   "execution_count": 3,
   "metadata": {},
   "outputs": [
    {
     "data": {
      "text/plain": [
       "(key = 4, (5, none))"
      ]
     },
     "execution_count": 3,
     "metadata": {},
     "output_type": "execute_result"
    }
   ],
   "source": [
    "four = Node(4)\n",
    "four.set_left(Node(5))\n",
    "four"
   ]
  },
  {
   "cell_type": "markdown",
   "metadata": {},
   "source": [
    "## Complexity\n",
    "\n",
    "Search and insertion are proportional to he height of the tree. In a worst case scenario the tree is a continuous line, so the complexity is $O(n)$.\n",
    "\n",
    "## Search\n",
    "\n",
    "The key insight is that moving on each subnode of a given node gives takes you to the top of another binary search tree (subtree if you will). This directly means that one could write a recursive solution for finding a given key.\n",
    "\n",
    "In the worst  case scenario the binary search tree works like a linked list, so searching through it is an $O(n)$ operation. Given a balanced  search tree, the search is run in $O(h)$, where $h ~ log(n)$. Observe similarities to binary search on a sorted array.\n",
    "\n",
    "## Insertion\n",
    "\n",
    "Query the current root. If it's equal to the key we want inserted, ignore (WARNING: assumption). If it's smaller than the key we want inserted, we query the children nodes.\n",
    "\n",
    "## In order traversal\n",
    "\n",
    "Recursively traverse the left side and the right side of the binary search tree. Notice similarities to [Merge Sort](https://en.wikipedia.org/wiki/Merge_sort#Top-down_implementation_using_lists) in the returns. \n",
    "\n",
    "One needs to propagate all the values from the recursively received values up, and `yield` has the advantage of being both more memory efficient and requiring more clean code than propagating lists upwards and trying to unpack and repack them. "
   ]
  },
  {
   "cell_type": "code",
   "execution_count": 4,
   "metadata": {},
   "outputs": [],
   "source": [
    "class BST:\n",
    "    def __init__(self):\n",
    "        # Head node\n",
    "        self.leader = None\n",
    "\n",
    "    def insert(self, key):\n",
    "        # initialise if needed\n",
    "        if self.leader == None:\n",
    "            self.leader = Node(key)\n",
    "        else:\n",
    "            self.insert_recursive(self.leader, key)\n",
    "\n",
    "    def insert_recursive(self, root, key):\n",
    "        # ignoring insertion if key already exists\n",
    "        if root.value > key:\n",
    "            # go left \n",
    "            if root.get_left() is None:\n",
    "                # if right child doesn't  exist, put node\n",
    "                root.set_left(Node(key))\n",
    "            else:\n",
    "                self.insert_recursive(root.get_left(), key)\n",
    "            \n",
    "        elif root.value < key:\n",
    "            # go right\n",
    "            if root.get_right() is None:\n",
    "                # if right child doesn't  exist, put node\n",
    "                root.set_right(Node(key))\n",
    "            else:\n",
    "                self.insert_recursive(root.get_right(), key)\n",
    "\n",
    "    def find(self, key):\n",
    "        return self._find_recursive(self.leader, key)\n",
    "    \n",
    "    def _find_recursive(self, root, key):\n",
    "        if root is None:\n",
    "            # Didn't find the key\n",
    "            return False # Maybe raise KeyError\n",
    "        elif root.value == key:\n",
    "            # Found the key\n",
    "            return True\n",
    "        elif root.value > key:\n",
    "            # go left\n",
    "            return self._find_recursive(root.get_left(), key)\n",
    "        elif root.value < key:\n",
    "            # go right\n",
    "            return self._find_recursive(root.get_right(), key)\n",
    "        \n",
    "    def inorder_traversal(self):\n",
    "        return self._inorder_recursive(self.leader)\n",
    "    \n",
    "    def _inorder_recursive(self, root):\n",
    "        if root is not None:\n",
    "            if root.get_left() is not None:\n",
    "                for left_node in self._inorder_recursive(root.get_left()):\n",
    "                    yield left_node\n",
    "            \n",
    "            yield root.value\n",
    "            \n",
    "            if root.get_right() is not None:\n",
    "                for right_node in self._inorder_recursive(root.get_right()):\n",
    "                    yield right_node\n",
    "    \n",
    "    def max_depth(self):\n",
    "        return self._max_depth_recursive(self.leader)\n",
    "    \n",
    "    def _max_depth_recursive(self, root):\n",
    "        if root is None:\n",
    "            return 0\n",
    "        else:\n",
    "            return 1 + max(self._max_depth_recursive(root.get_left() ), \n",
    "                           self._max_depth_recursive(root.get_right()))\n",
    "    \n",
    "    def delete_key(self, key):\n",
    "        self._delete_leaf(self.leader, key)\n",
    "        \n",
    "    def _delete_leaf(self, root, key):\n",
    "        print(f'{root} {key}')\n",
    "        if root is None:\n",
    "            pass # Again, maybe raise KeyError\n",
    "        elif root.value == key:\n",
    "            left_child = root.get_left()\n",
    "            right_child = root.get_right()\n",
    "            if (left_child is None) and (right_child is None):\n",
    "                print('Noning')\n",
    "                # set root to None\n",
    "                del root\n",
    "            elif (left_child is None):\n",
    "                # set root to right child\n",
    "                root.set_to(right_child)\n",
    "            elif (right_child is None):\n",
    "                # set root to left_child\n",
    "                root.set_to(left_child)\n",
    "            elif (left_child is not None) and (right_child is not None):\n",
    "                print(f'replacing {root} with {right_child}')\n",
    "                root.value = right_child.value\n",
    "                root.set_left(left_child)\n",
    "                root.set_right(right_child)\n",
    "                new_key = right_child.value\n",
    "                print(f'new root {root}')\n",
    "                self._delete_leaf(right_child, new_key)\n",
    "        elif root.value > key:\n",
    "            # go left\n",
    "            self._delete_leaf(root.get_left(), key)\n",
    "        elif root.value < key:\n",
    "            # go right\n",
    "            self._delete_leaf(root.get_right(), key)\n",
    "            "
   ]
  },
  {
   "cell_type": "code",
   "execution_count": 5,
   "metadata": {},
   "outputs": [
    {
     "name": "stdout",
     "output_type": "stream",
     "text": [
      "[0, 1, 2, 3, 4, 5, 6, 7, 8, 9, 10, 11, 12, 13, 14, 15, 16, 17, 18, 19, 20]\n",
      "Test passed\n"
     ]
    }
   ],
   "source": [
    "rand_keys = [randint(0, 20) for _ in range(100)]\n",
    "bst = BST()\n",
    "\n",
    "for k in rand_keys:\n",
    "    bst.insert(k)\n",
    "head = bst.leader.value\n",
    "found = [bst.find(x) for x in range(0, 20)]\n",
    "print(list(bst.inorder_traversal()))\n",
    "\n",
    "class TestOrder(unittest.TestCase):\n",
    "    def runTest(self):\n",
    "        # won't always pass as there's the odd chance that some number won't be inserted\n",
    "        self.assertListEqual(list(bst.inorder_traversal()),\n",
    "                              list(range(21)))\n",
    "        print('Test passed')\n",
    "\n",
    "TestOrder().runTest()"
   ]
  },
  {
   "cell_type": "markdown",
   "metadata": {},
   "source": [
    "## Deletion\n",
    "\n",
    "Take the example binary search tree\n",
    "![img](resources/bst.png)\n",
    "\n",
    "Removing a key could lead to the following cases:\n",
    "\n",
    "1. **key is a leaf** -- simply remove and continue\n",
    "2. **key has one child node** -- replace node with child node and proceed\n",
    "3. **key has two children nodes** -- find in order successor and replace contents of the key node with the in order successor. Replace in order successor with it's in order succesor, etc.\n",
    "\n",
    "Complexity deletion $O(h)$."
   ]
  },
  {
   "cell_type": "code",
   "execution_count": 8,
   "metadata": {},
   "outputs": [
    {
     "name": "stdout",
     "output_type": "stream",
     "text": [
      "[1, 3, 4, 6, 7, 8, 10, 13, 14]\n",
      "(key = 8, (3, 10)) 3\n",
      "(key = 3, (1, 6)) 3\n",
      "replacing (key = 3, (1, 6)) with (key = 6, (4, 7))\n",
      "new root (key = 6, (1, 6))\n",
      "(key = 6, (4, 7)) 6\n",
      "replacing (key = 6, (4, 7)) with (key = 7, (none, none))\n",
      "new root (key = 7, (4, 7))\n",
      "(key = 7, (none, none)) 7\n",
      "Noning\n",
      "[1, 6, 4, 7, 7, 8, 10, 13, 14]\n"
     ]
    }
   ],
   "source": [
    "bst2 = BST()\n",
    "bst2.insert(8)\n",
    "bst2.insert(3)\n",
    "bst2.insert(1)\n",
    "bst2.insert(6)\n",
    "bst2.insert(4)\n",
    "bst2.insert(7)\n",
    "bst2.insert(10)\n",
    "bst2.insert(14)\n",
    "bst2.insert(13)\n",
    "print(list(bst2.inorder_traversal()))\n",
    "# Delete leaf\n",
    "bst2.delete_key(3)\n",
    "print(list(bst2.inorder_traversal()))"
   ]
  },
  {
   "cell_type": "code",
   "execution_count": null,
   "metadata": {},
   "outputs": [],
   "source": []
  },
  {
   "cell_type": "markdown",
   "metadata": {},
   "source": [
    "# Advantages of BST\n",
    "\n",
    "- Unlike hash maps, binary search trees have linear insertion and deletion times.\n",
    "- Inorder traversal is $O(n)$ too, which is way better than any sorting obtainable from hash maps.\n",
    "- Hash table resizing is quite costly, can be avoided when working with binary search trees\n",
    "\n",
    "## Use cases\n",
    "\n",
    "Huffman codes, heaps, heap sort, hashing in p2p networks.\n",
    "\n",
    "\n",
    "# Further reading\n",
    "\n",
    "[Geeks for Geeks](http://www.geeksforgeeks.org/binary-search-tree-set-1-search-and-insertion/)\n",
    "\n",
    "[Basic Python Implementation Gist](https://gist.github.com/jakemmarsh/8273963)\n",
    "\n",
    "[Moar implementations in Python](http://interactivepython.org/runestone/static/pythonds/Trees/SearchTreeImplementation.html)"
   ]
  },
  {
   "cell_type": "code",
   "execution_count": null,
   "metadata": {},
   "outputs": [],
   "source": []
  }
 ],
 "metadata": {
  "kernelspec": {
   "display_name": "Python 3",
   "language": "python",
   "name": "python3"
  },
  "language_info": {
   "codemirror_mode": {
    "name": "ipython",
    "version": 3
   },
   "file_extension": ".py",
   "mimetype": "text/x-python",
   "name": "python",
   "nbconvert_exporter": "python",
   "pygments_lexer": "ipython3",
   "version": "3.6.3"
  }
 },
 "nbformat": 4,
 "nbformat_minor": 2
}
