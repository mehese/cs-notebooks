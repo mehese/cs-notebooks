{
 "cells": [
  {
   "cell_type": "markdown",
   "metadata": {},
   "source": [
    "# Cracking the Coding Interview\n",
    "\n",
    "## Chapter 8\n",
    "\n",
    "### Problem 8.9\n",
    "\n",
    "**Parens:** Implement an algorithm to print all valid (e.g., properly opened and closed) combinations of $n$ pairs of parantheses.\n",
    "\n",
    "----\n",
    "\n",
    "**EXAMPLE**\n",
    "\n",
    "**Input:** `3`\n",
    "\n",
    "**Output:** `((()))`, `(()())`, `(())()`, `()(())`, `()()()`"
   ]
  },
  {
   "cell_type": "code",
   "execution_count": 1,
   "metadata": {},
   "outputs": [],
   "source": [
    "import math"
   ]
  },
  {
   "cell_type": "code",
   "execution_count": 2,
   "metadata": {},
   "outputs": [
    {
     "name": "stdout",
     "output_type": "stream",
     "text": [
      "Tests passed\n"
     ]
    }
   ],
   "source": [
    "def permutate(text):\n",
    "    if len(text) == 2:\n",
    "        yield text\n",
    "        yield \"{}\".format(text[::-1])\n",
    "    else:\n",
    "        for i, lett in enumerate(text):\n",
    "            rest_of_text = text[:i] + text[i+1:]\n",
    "            for permutation in permutate(rest_of_text):\n",
    "                yield lett + permutation\n",
    "            \n",
    "def test():\n",
    "    series = lambda size: \"\".join(str(x) for x in range(1, size+1))\n",
    "    for l in range(2, 10):\n",
    "        assert len(list(permutate(series(l)))) == math.factorial(l), \\\n",
    "               \"series '{}' should have {}! permutations\".format(series(l), l)\n",
    "    \n",
    "    text = \"abc\"\n",
    "    expected = {\"abc\", \"acb\", \"bac\", \"bca\", \"cab\", \"cba\"}\n",
    "    result = set(permutate(text))\n",
    "    assert result == expected, \"{} != {}\".format(result, expected)\n",
    "    print(\"Tests passed\")\n",
    "\n",
    "test()"
   ]
  },
  {
   "cell_type": "code",
   "execution_count": 3,
   "metadata": {},
   "outputs": [
    {
     "name": "stdout",
     "output_type": "stream",
     "text": [
      "Tests passed\n"
     ]
    }
   ],
   "source": [
    "def validate_parantheses(text):\n",
    "    tally = 0\n",
    "    for lett in text:\n",
    "        if tally < 0:\n",
    "            return False\n",
    "        if lett == \"(\":\n",
    "            tally += 1\n",
    "        else:\n",
    "            tally -= 1\n",
    "    \n",
    "    if tally != 0:\n",
    "        return False\n",
    "    else:\n",
    "        return True\n",
    "    \n",
    "def test():\n",
    "    valid = [\"()()\", \"((()))\", \"()()()()((())())()\", \"(())()\"]\n",
    "    for paran in valid:\n",
    "        assert validate_parantheses(paran) is True, \\\n",
    "               \"'{}' is valid, result came back negative\".format(paran)\n",
    "    invalid = [\")(\", \"(\", \"()()()((())\", \"()()(()))\"]\n",
    "    for paran in invalid:\n",
    "        assert validate_parantheses(paran) is False, \\\n",
    "               \"'{}' is invalid, result came back positive\".format(paran)\n",
    "\n",
    "    print(\"Tests passed\")\n",
    "\n",
    "test()"
   ]
  },
  {
   "cell_type": "code",
   "execution_count": 4,
   "metadata": {
    "scrolled": true
   },
   "outputs": [
    {
     "name": "stdout",
     "output_type": "stream",
     "text": [
      "CPU times: user 6.43 s, sys: 71 µs, total: 6.43 s\n",
      "Wall time: 6.43 s\n"
     ]
    },
    {
     "data": {
      "text/plain": [
       "['()()()()()',\n",
       " '()()()(())',\n",
       " '()()(())()',\n",
       " '()()(()())',\n",
       " '()()((()))',\n",
       " '()(())()()',\n",
       " '()(())(())',\n",
       " '()(()())()',\n",
       " '()(()()())',\n",
       " '()(()(()))',\n",
       " '()((()))()',\n",
       " '()((())())',\n",
       " '()((()()))',\n",
       " '()(((())))',\n",
       " '(())()()()',\n",
       " '(())()(())',\n",
       " '(())(())()',\n",
       " '(())(()())',\n",
       " '(())((()))',\n",
       " '(()())()()',\n",
       " '(()())(())',\n",
       " '(()()())()',\n",
       " '(()()()())',\n",
       " '(()()(()))',\n",
       " '(()(()))()',\n",
       " '(()(())())',\n",
       " '(()(()()))',\n",
       " '(()((())))',\n",
       " '((()))()()',\n",
       " '((()))(())',\n",
       " '((())())()',\n",
       " '((())()())',\n",
       " '((())(()))',\n",
       " '((()()))()',\n",
       " '((()())())',\n",
       " '((()()()))',\n",
       " '((()(())))',\n",
       " '(((())))()',\n",
       " '(((()))())',\n",
       " '(((())()))',\n",
       " '(((()())))',\n",
       " '((((()))))']"
      ]
     },
     "execution_count": 4,
     "metadata": {},
     "output_type": "execute_result"
    }
   ],
   "source": [
    "def very_bad_solution(size):\n",
    "    initial_config = \"\".join(\"()\" for _ in range(size))\n",
    "    solutions = set([])\n",
    "    for configuration in permutate(initial_config):\n",
    "        if validate_parantheses(configuration) and configuration not in solutions:\n",
    "            solutions.add(configuration)\n",
    "            yield configuration\n",
    "    \n",
    "%time list(very_bad_solution(5))"
   ]
  },
  {
   "cell_type": "markdown",
   "metadata": {},
   "source": [
    "### Observations\n",
    "\n",
    "- Generating all the permutations is prohibitively expensive\n",
    "- String must always start in `(` and end in `)`, so one only needs to generate permutations for $n-1$ options\n",
    "- Permutating identical parantheses is pointless, and can be avoided"
   ]
  },
  {
   "cell_type": "markdown",
   "metadata": {},
   "source": [
    "## Book Solution\n",
    "\n",
    "**(See page 360 )** \n",
    "\n",
    "Generate only valid configurations. Take into account the following\n",
    "\n",
    "1. *Left paranthesis:* as long as there is one left, it can always be inserted.\n",
    "2. *Right paranthesis:* it can be inserted as long as it doesn't lead to a syntax error. A syntax error will be returned when there are more right parantheses than left.\n",
    "\n",
    "Keep track of the number of left and right parantheses allowed.\n",
    "\n",
    "- If there are left parantheses remaining, insert one and recurse.\n",
    "- If there are more right paratheses remaining than right, insert a right one and recurse.\n",
    "\n",
    "Since left and right indexes are inserted at each index in the string, each string is guaranteed to be unique.\n"
   ]
  },
  {
   "cell_type": "code",
   "execution_count": 5,
   "metadata": {},
   "outputs": [
    {
     "name": "stdout",
     "output_type": "stream",
     "text": [
      "((()))\n",
      "(()())\n",
      "(())()\n",
      "()(())\n",
      "()()()\n"
     ]
    }
   ],
   "source": [
    "def add_parathesis(text: str, remaining_left: int, remaining_right: int) -> str:\n",
    "    if remaining_left < 0 or remaining_right < remaining_left:\n",
    "        pass\n",
    "    elif remaining_left == 0 and remaining_right == 0:\n",
    "        yield text\n",
    "    else:\n",
    "        # add left and recurse\n",
    "        text_left = text + \"(\"\n",
    "        for sol_l in add_parathesis(text_left, remaining_left - 1, remaining_right):\n",
    "            yield sol_l\n",
    "        \n",
    "        # add right and recurse\n",
    "        text_right = text + \")\"\n",
    "        for sol_r in add_parathesis(text_right, remaining_left, remaining_right - 1):\n",
    "            yield sol_r\n",
    "        \n",
    "\n",
    "def book_solution(size):\n",
    "    return add_parathesis(\"\", size, size)\n",
    "\n",
    "for sol in book_solution(3):\n",
    "    print(sol)"
   ]
  },
  {
   "cell_type": "code",
   "execution_count": 6,
   "metadata": {
    "scrolled": true
   },
   "outputs": [
    {
     "name": "stdout",
     "output_type": "stream",
     "text": [
      "CPU times: user 379 µs, sys: 3 µs, total: 382 µs\n",
      "Wall time: 388 µs\n"
     ]
    },
    {
     "data": {
      "text/plain": [
       "['((((()))))',\n",
       " '(((()())))',\n",
       " '(((())()))',\n",
       " '(((()))())',\n",
       " '(((())))()',\n",
       " '((()(())))',\n",
       " '((()()()))',\n",
       " '((()())())',\n",
       " '((()()))()',\n",
       " '((())(()))',\n",
       " '((())()())',\n",
       " '((())())()',\n",
       " '((()))(())',\n",
       " '((()))()()',\n",
       " '(()((())))',\n",
       " '(()(()()))',\n",
       " '(()(())())',\n",
       " '(()(()))()',\n",
       " '(()()(()))',\n",
       " '(()()()())',\n",
       " '(()()())()',\n",
       " '(()())(())',\n",
       " '(()())()()',\n",
       " '(())((()))',\n",
       " '(())(()())',\n",
       " '(())(())()',\n",
       " '(())()(())',\n",
       " '(())()()()',\n",
       " '()(((())))',\n",
       " '()((()()))',\n",
       " '()((())())',\n",
       " '()((()))()',\n",
       " '()(()(()))',\n",
       " '()(()()())',\n",
       " '()(()())()',\n",
       " '()(())(())',\n",
       " '()(())()()',\n",
       " '()()((()))',\n",
       " '()()(()())',\n",
       " '()()(())()',\n",
       " '()()()(())',\n",
       " '()()()()()']"
      ]
     },
     "execution_count": 6,
     "metadata": {},
     "output_type": "execute_result"
    }
   ],
   "source": [
    "%time list(book_solution(5))"
   ]
  }
 ],
 "metadata": {
  "kernelspec": {
   "display_name": "Python 3",
   "language": "python",
   "name": "python3"
  },
  "language_info": {
   "codemirror_mode": {
    "name": "ipython",
    "version": 3
   },
   "file_extension": ".py",
   "mimetype": "text/x-python",
   "name": "python",
   "nbconvert_exporter": "python",
   "pygments_lexer": "ipython3",
   "version": "3.6.3"
  }
 },
 "nbformat": 4,
 "nbformat_minor": 2
}
