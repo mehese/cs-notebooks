{
 "cells": [
  {
   "cell_type": "markdown",
   "metadata": {},
   "source": [
    "Given a string, find out the largest subpalindrome from its substrings.\n",
    "\n",
    "Palindrome: word that reads the same forward and backwards.\n",
    "\n",
    "Adapted from the Design of Computer Programs course on Udacity [[link](https://www.udacity.com/course/design-of-computer-programs--cs212)]"
   ]
  },
  {
   "cell_type": "code",
   "execution_count": 1,
   "metadata": {},
   "outputs": [
    {
     "name": "stdout",
     "output_type": "stream",
     "text": [
      "Tests passed\n"
     ]
    }
   ],
   "source": [
    "def is_palindrome(string):\n",
    "    to_compare = string.lower()\n",
    "    return to_compare == to_compare[::-1]\n",
    "\n",
    "def test():\n",
    "    not_palindromes = [\"Car\", \"Bz\", \"bIke\", \"O'Neal\", \"Barracuda\", \"rrrrra\", \"arrrr\",\n",
    "                       \" racecar.\"]\n",
    "    for word in not_palindromes:\n",
    "        assert is_palindrome(word) is False, f\"{word} should not be a palindrome\"\n",
    "    \n",
    "    palindromes = [\"Otto\", \"racecar\", \"annA\", \"IFI\", \"GG\"]\n",
    "    for word in palindromes:\n",
    "        assert is_palindrome(word) is True, f\"{word} should  be a palindrome\"\n",
    "    print(\"Tests passed\")\n",
    "\n",
    "test()"
   ]
  },
  {
   "cell_type": "code",
   "execution_count": 2,
   "metadata": {},
   "outputs": [],
   "source": [
    "sample = \"Otto and Anna went to the market with their racecaR on an evening day.\""
   ]
  },
  {
   "cell_type": "code",
   "execution_count": 3,
   "metadata": {},
   "outputs": [
    {
     "data": {
      "text/plain": [
       "' racecaR '"
      ]
     },
     "execution_count": 3,
     "metadata": {},
     "output_type": "execute_result"
    }
   ],
   "source": [
    "def longest_subpalindrome(text):\n",
    "    \"\"\"Returns the largest subpalindrome in the text\"\"\"\n",
    "    if text == \"\": return \"\"\n",
    "    \n",
    "    candidates = [\n",
    "        grow(text, start, end)\n",
    "        for start in range(len(text))\n",
    "        for end in (start, start + 1) # covers even and odd palindromes\n",
    "    ]\n",
    "    i, j = max(candidates, key=lambda x: x[1] - x[0])\n",
    "    return text[i:j]\n",
    "\n",
    "def grow(text, start, end):\n",
    "    \"\"\"Finds the size of the palindrome centred on start\"\"\"\n",
    "    while (start > 0) and (end < len(text)) and is_palindrome(text[start-1:end+1]):\n",
    "        start, end = start - 1, end + 1\n",
    "    return (start, end)\n",
    "        \n",
    "longest_subpalindrome(sample)"
   ]
  },
  {
   "cell_type": "code",
   "execution_count": 4,
   "metadata": {},
   "outputs": [
    {
     "name": "stdout",
     "output_type": "stream",
     "text": [
      "Tests passed\n"
     ]
    }
   ],
   "source": [
    "def test():\n",
    "    sentences_and_subpalindromes = [\n",
    "        (sample, \" racecaR \"),\n",
    "        (\"Anna\", \"Anna\"),\n",
    "        (\"Otto sucks\", \"Otto\"),\n",
    "        (\" otto.\", \"Otto\"),\n",
    "        (\"Boo.\", \"oo\")\n",
    "    ]\n",
    "    for sentence, subpal in sentences_and_subpalindromes:\n",
    "        result = longest_subpalindrome(sentence).lower()\n",
    "        expected = subpal.lower()\n",
    "        assert result == expected, \\\n",
    "               f\"result <<{result}>> did not equal <<{expected}>>\"\n",
    "    print(\"Tests passed\")\n",
    "\n",
    "test()"
   ]
  }
 ],
 "metadata": {
  "kernelspec": {
   "display_name": "Python 3",
   "language": "python",
   "name": "python3"
  },
  "language_info": {
   "codemirror_mode": {
    "name": "ipython",
    "version": 3
   },
   "file_extension": ".py",
   "mimetype": "text/x-python",
   "name": "python",
   "nbconvert_exporter": "python",
   "pygments_lexer": "ipython3",
   "version": "3.6.3"
  }
 },
 "nbformat": 4,
 "nbformat_minor": 2
}
