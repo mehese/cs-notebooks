{
 "cells": [
  {
   "cell_type": "markdown",
   "metadata": {},
   "source": [
    "Given a set of intervals, provide the range covered by them. \n",
    "\n",
    "**Example** \n",
    "\n",
    "${(1,2), (4,6), (3, 5)}$ covers a range of $4$ because $(2-1) + (6 - 3) = 4$ and $(3, 6)$ interval results from the overlap of $(3, 5)$ and $(4, 6)$."
   ]
  },
  {
   "cell_type": "code",
   "execution_count": 1,
   "metadata": {},
   "outputs": [],
   "source": [
    "from collections import namedtuple\n",
    "\n",
    "Interval = namedtuple('Interval', ['start', 'end'])\n",
    "example = [(1, 2), (4, 6), (3, 5)]\n",
    "example_intervals = [Interval(*i) for i in example]\n",
    "\n",
    "\n",
    "def interval_range(lst):\n",
    "    # overlapping of two intervals sorted by min\n",
    "    overlaps = lambda int1, int2: True if (int1.end > int2.start) else False\n",
    "    # union of two intervals\n",
    "    union = lambda int1, int2: Interval(min(int1.start, int2.start),\n",
    "                                        max(int1.end, int2.end))\n",
    "    sorted_lst = sorted(lst, key=lambda x: x.start)\n",
    "    merged_lst = [sorted_lst[0]]\n",
    "    for curr in sorted_lst[1:]:\n",
    "        last = merged_lst[-1]\n",
    "        if overlaps(last, curr):\n",
    "            merged_lst[-1] = union(curr, last)\n",
    "        else:\n",
    "            merged_lst.append(curr)\n",
    "    return sum(x.end - x.start for x in merged_lst)\n",
    "\n",
    "def test():\n",
    "    intervalize = lambda lst: [Interval(*i) for i in lst]\n",
    "    test_name = \"Single interval\"\n",
    "    obtained = interval_range(intervalize([(1, 10.5)]))\n",
    "    expected = 9.5\n",
    "    assert obtained == expected, f\"{test_name}\\nexpected {expected}, got {obtained}\"\n",
    "    \n",
    "    test_name = \"No overlap\"\n",
    "    obtained = interval_range(intervalize([(1, 2), (3, 4), (5, 6)]))\n",
    "    expected = 3\n",
    "    assert obtained == expected, f\"{test_name}\\nexpected {expected}, got {obtained}\"\n",
    "    \n",
    "    test_name = \"All overlapping\"\n",
    "    obtained = interval_range(intervalize([(4, 5), (3, 5), (4, 600)]))\n",
    "    expected = 600 - 3\n",
    "    assert obtained == expected, f\"{test_name}\\nexpected {expected}, got {obtained}\"\n",
    "  \n",
    "test()"
   ]
  },
  {
   "cell_type": "code",
   "execution_count": null,
   "metadata": {},
   "outputs": [],
   "source": []
  }
 ],
 "metadata": {
  "kernelspec": {
   "display_name": "Python 3",
   "language": "python",
   "name": "python3"
  },
  "language_info": {
   "codemirror_mode": {
    "name": "ipython",
    "version": 3
   },
   "file_extension": ".py",
   "mimetype": "text/x-python",
   "name": "python",
   "nbconvert_exporter": "python",
   "pygments_lexer": "ipython3",
   "version": "3.6.3"
  }
 },
 "nbformat": 4,
 "nbformat_minor": 2
}
